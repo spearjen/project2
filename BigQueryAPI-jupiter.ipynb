{
 "cells": [
  {
   "cell_type": "code",
   "execution_count": 4,
   "metadata": {},
   "outputs": [],
   "source": [
    "#import necessary libraries\n",
    "from flask import Flask\n",
    "from flask_restful import Resource, Api, reqparse\n",
    "from google.cloud import bigquery\n",
    "import pandas_gbq\n",
    "import pandas as pd\n",
    "import json\n",
    "import os\n",
    "from geojson import Feature, FeatureCollection, Point, Polygon\n",
    "import geopandas"
   ]
  },
  {
   "cell_type": "code",
   "execution_count": 5,
   "metadata": {},
   "outputs": [],
   "source": [
    "#google credentials\n",
    "os.environ[\"GOOGLE_APPLICATION_CREDENTIALS\"] = \"Hurricane -32cb24436d46.json\"\n",
    "\n",
    "# #create Flass app instance\n",
    "# app = Flask(__name__)\n",
    "# api = Api(app)\n",
    "\n",
    "\n",
    "#setup connection to BigAssQuery\n",
    "client = bigquery.Client()\n",
    "\n",
    "\n",
    "# @app.route(\"/\")\n",
    "# def index():\n",
    "\n",
    "query = \"\"\"\n",
    "    SELECT year, latitude, longitude, sea_surface_temp\n",
    "    FROM `bigquery-public-data.noaa_icoads.icoads_core_*` \n",
    "    WHERE year >=1851 \n",
    "    AND latitude <=50\n",
    "    AND latitude >=0\n",
    "    AND longitude <=-50\n",
    "    AND longitude >=-100\n",
    "    ORDER BY year\n",
    "\"\"\"\n",
    "\n",
    "# query_res = client.query(query) "
   ]
  },
  {
   "cell_type": "code",
   "execution_count": 6,
   "metadata": {},
   "outputs": [
    {
     "ename": "NameError",
     "evalue": "name 'query_res' is not defined",
     "output_type": "error",
     "traceback": [
      "\u001b[1;31m---------------------------------------------------------------------------\u001b[0m",
      "\u001b[1;31mNameError\u001b[0m                                 Traceback (most recent call last)",
      "\u001b[1;32m<ipython-input-6-5fd9e1984836>\u001b[0m in \u001b[0;36m<module>\u001b[1;34m\u001b[0m\n\u001b[1;32m----> 1\u001b[1;33m \u001b[0mquery_res\u001b[0m\u001b[1;33m\u001b[0m\u001b[1;33m\u001b[0m\u001b[0m\n\u001b[0m",
      "\u001b[1;31mNameError\u001b[0m: name 'query_res' is not defined"
     ]
    }
   ],
   "source": [
    "# query_res"
   ]
  },
  {
   "cell_type": "code",
   "execution_count": 7,
   "metadata": {},
   "outputs": [
    {
     "name": "stderr",
     "output_type": "stream",
     "text": [
      "Downloading: 100%|██████████| 169220630/169220630 [1:28:58<00:00, 31695.21rows/s]\n"
     ]
    }
   ],
   "source": [
    "import pandas as pd\n",
    "import pandas_gbq\n",
    "df = pandas_gbq.read_gbq(query)"
   ]
  },
  {
   "cell_type": "code",
   "execution_count": null,
   "metadata": {},
   "outputs": [],
   "source": [
    "df.to_csv(r'sstAll.csv',index=False)"
   ]
  },
  {
   "cell_type": "code",
   "execution_count": 3,
   "metadata": {},
   "outputs": [
    {
     "ename": "NameError",
     "evalue": "name 'df' is not defined",
     "output_type": "error",
     "traceback": [
      "\u001b[1;31m---------------------------------------------------------------------------\u001b[0m",
      "\u001b[1;31mNameError\u001b[0m                                 Traceback (most recent call last)",
      "\u001b[1;32m<ipython-input-3-fdaf810c5d75>\u001b[0m in \u001b[0;36m<module>\u001b[1;34m\u001b[0m\n\u001b[0;32m      1\u001b[0m \u001b[0mlat_bins\u001b[0m\u001b[1;33m=\u001b[0m\u001b[0mrange\u001b[0m\u001b[1;33m(\u001b[0m\u001b[1;36m0\u001b[0m\u001b[1;33m,\u001b[0m \u001b[1;36m51\u001b[0m\u001b[1;33m,\u001b[0m \u001b[1;36m10\u001b[0m\u001b[1;33m)\u001b[0m\u001b[1;33m\u001b[0m\u001b[1;33m\u001b[0m\u001b[0m\n\u001b[1;32m----> 2\u001b[1;33m \u001b[0mdf\u001b[0m\u001b[1;33m[\u001b[0m\u001b[1;34m'latitudeSquare'\u001b[0m\u001b[1;33m]\u001b[0m \u001b[1;33m=\u001b[0m \u001b[0mpd\u001b[0m\u001b[1;33m.\u001b[0m\u001b[0mcut\u001b[0m\u001b[1;33m(\u001b[0m\u001b[0mdf\u001b[0m\u001b[1;33m[\u001b[0m\u001b[1;34m'latitude'\u001b[0m\u001b[1;33m]\u001b[0m\u001b[1;33m,\u001b[0m \u001b[0mbins\u001b[0m\u001b[1;33m=\u001b[0m\u001b[0mlat_bins\u001b[0m\u001b[1;33m)\u001b[0m\u001b[1;33m\u001b[0m\u001b[1;33m\u001b[0m\u001b[0m\n\u001b[0m",
      "\u001b[1;31mNameError\u001b[0m: name 'df' is not defined"
     ]
    }
   ],
   "source": [
    "lat_bins=range(0, 51, 10)\n",
    "df['latitudeSquare'] = pd.cut(df['latitude'], bins=lat_bins)"
   ]
  },
  {
   "cell_type": "code",
   "execution_count": 82,
   "metadata": {},
   "outputs": [],
   "source": [
    "long_bins=range(-100, -49, 10)\n",
    "df['longitudeSquare']=pd.cut(df['longitude'], bins=long_bins)"
   ]
  },
  {
   "cell_type": "code",
   "execution_count": 83,
   "metadata": {},
   "outputs": [
    {
     "data": {
      "text/html": [
       "<div>\n",
       "<style scoped>\n",
       "    .dataframe tbody tr th:only-of-type {\n",
       "        vertical-align: middle;\n",
       "    }\n",
       "\n",
       "    .dataframe tbody tr th {\n",
       "        vertical-align: top;\n",
       "    }\n",
       "\n",
       "    .dataframe thead tr th {\n",
       "        text-align: left;\n",
       "    }\n",
       "\n",
       "    .dataframe thead tr:last-of-type th {\n",
       "        text-align: right;\n",
       "    }\n",
       "</style>\n",
       "<table border=\"1\" class=\"dataframe\">\n",
       "  <thead>\n",
       "    <tr>\n",
       "      <th></th>\n",
       "      <th></th>\n",
       "      <th></th>\n",
       "      <th colspan=\"4\" halign=\"left\">sea_surface_temp</th>\n",
       "    </tr>\n",
       "    <tr>\n",
       "      <th></th>\n",
       "      <th></th>\n",
       "      <th></th>\n",
       "      <th>min</th>\n",
       "      <th>max</th>\n",
       "      <th>mean</th>\n",
       "      <th>median</th>\n",
       "    </tr>\n",
       "    <tr>\n",
       "      <th>year</th>\n",
       "      <th>latitudeSquare</th>\n",
       "      <th>longitudeSquare</th>\n",
       "      <th></th>\n",
       "      <th></th>\n",
       "      <th></th>\n",
       "      <th></th>\n",
       "    </tr>\n",
       "  </thead>\n",
       "  <tbody>\n",
       "    <tr>\n",
       "      <th rowspan=\"5\" valign=\"top\">1851</th>\n",
       "      <th rowspan=\"5\" valign=\"top\">(0, 10]</th>\n",
       "      <th>(-100, -90]</th>\n",
       "      <td>19.4</td>\n",
       "      <td>26.7</td>\n",
       "      <td>23.557895</td>\n",
       "      <td>23.3</td>\n",
       "    </tr>\n",
       "    <tr>\n",
       "      <th>(-90, -80]</th>\n",
       "      <td>21.7</td>\n",
       "      <td>27.8</td>\n",
       "      <td>25.121739</td>\n",
       "      <td>24.4</td>\n",
       "    </tr>\n",
       "    <tr>\n",
       "      <th>(-80, -70]</th>\n",
       "      <td>25.0</td>\n",
       "      <td>28.9</td>\n",
       "      <td>26.983333</td>\n",
       "      <td>26.4</td>\n",
       "    </tr>\n",
       "    <tr>\n",
       "      <th>(-70, -60]</th>\n",
       "      <td>NaN</td>\n",
       "      <td>NaN</td>\n",
       "      <td>NaN</td>\n",
       "      <td>NaN</td>\n",
       "    </tr>\n",
       "    <tr>\n",
       "      <th>(-60, -50]</th>\n",
       "      <td>26.1</td>\n",
       "      <td>28.3</td>\n",
       "      <td>26.800000</td>\n",
       "      <td>26.4</td>\n",
       "    </tr>\n",
       "  </tbody>\n",
       "</table>\n",
       "</div>"
      ],
      "text/plain": [
       "                                    sea_surface_temp                        \n",
       "                                                 min   max       mean median\n",
       "year latitudeSquare longitudeSquare                                         \n",
       "1851 (0, 10]        (-100, -90]                 19.4  26.7  23.557895   23.3\n",
       "                    (-90, -80]                  21.7  27.8  25.121739   24.4\n",
       "                    (-80, -70]                  25.0  28.9  26.983333   26.4\n",
       "                    (-70, -60]                   NaN   NaN        NaN    NaN\n",
       "                    (-60, -50]                  26.1  28.3  26.800000   26.4"
      ]
     },
     "execution_count": 83,
     "metadata": {},
     "output_type": "execute_result"
    }
   ],
   "source": [
    "dfSquare=df.groupby(['year','latitudeSquare','longitudeSquare']).agg({'sea_surface_temp': ['min','max','mean','median']})\n",
    "dfSquare.head()"
   ]
  },
  {
   "cell_type": "code",
   "execution_count": 84,
   "metadata": {},
   "outputs": [],
   "source": [
    "dfSquare.to_json(r'yearData.json')"
   ]
  },
  {
   "cell_type": "code",
   "execution_count": 85,
   "metadata": {},
   "outputs": [
    {
     "data": {
      "text/html": [
       "<div>\n",
       "<style scoped>\n",
       "    .dataframe tbody tr th:only-of-type {\n",
       "        vertical-align: middle;\n",
       "    }\n",
       "\n",
       "    .dataframe tbody tr th {\n",
       "        vertical-align: top;\n",
       "    }\n",
       "\n",
       "    .dataframe thead tr th {\n",
       "        text-align: left;\n",
       "    }\n",
       "</style>\n",
       "<table border=\"1\" class=\"dataframe\">\n",
       "  <thead>\n",
       "    <tr>\n",
       "      <th></th>\n",
       "      <th>year</th>\n",
       "      <th>latitudeSquare</th>\n",
       "      <th>longitudeSquare</th>\n",
       "      <th colspan=\"4\" halign=\"left\">sea_surface_temp</th>\n",
       "    </tr>\n",
       "    <tr>\n",
       "      <th></th>\n",
       "      <th></th>\n",
       "      <th></th>\n",
       "      <th></th>\n",
       "      <th>min</th>\n",
       "      <th>max</th>\n",
       "      <th>mean</th>\n",
       "      <th>median</th>\n",
       "    </tr>\n",
       "  </thead>\n",
       "  <tbody>\n",
       "    <tr>\n",
       "      <th>0</th>\n",
       "      <td>1851</td>\n",
       "      <td>(0, 10]</td>\n",
       "      <td>(-100, -90]</td>\n",
       "      <td>19.4</td>\n",
       "      <td>26.7</td>\n",
       "      <td>23.557895</td>\n",
       "      <td>23.3</td>\n",
       "    </tr>\n",
       "    <tr>\n",
       "      <th>1</th>\n",
       "      <td>1851</td>\n",
       "      <td>(0, 10]</td>\n",
       "      <td>(-90, -80]</td>\n",
       "      <td>21.7</td>\n",
       "      <td>27.8</td>\n",
       "      <td>25.121739</td>\n",
       "      <td>24.4</td>\n",
       "    </tr>\n",
       "    <tr>\n",
       "      <th>2</th>\n",
       "      <td>1851</td>\n",
       "      <td>(0, 10]</td>\n",
       "      <td>(-80, -70]</td>\n",
       "      <td>25.0</td>\n",
       "      <td>28.9</td>\n",
       "      <td>26.983333</td>\n",
       "      <td>26.4</td>\n",
       "    </tr>\n",
       "    <tr>\n",
       "      <th>3</th>\n",
       "      <td>1851</td>\n",
       "      <td>(0, 10]</td>\n",
       "      <td>(-70, -60]</td>\n",
       "      <td>NaN</td>\n",
       "      <td>NaN</td>\n",
       "      <td>NaN</td>\n",
       "      <td>NaN</td>\n",
       "    </tr>\n",
       "    <tr>\n",
       "      <th>4</th>\n",
       "      <td>1851</td>\n",
       "      <td>(0, 10]</td>\n",
       "      <td>(-60, -50]</td>\n",
       "      <td>26.1</td>\n",
       "      <td>28.3</td>\n",
       "      <td>26.800000</td>\n",
       "      <td>26.4</td>\n",
       "    </tr>\n",
       "    <tr>\n",
       "      <th>...</th>\n",
       "      <td>...</td>\n",
       "      <td>...</td>\n",
       "      <td>...</td>\n",
       "      <td>...</td>\n",
       "      <td>...</td>\n",
       "      <td>...</td>\n",
       "      <td>...</td>\n",
       "    </tr>\n",
       "    <tr>\n",
       "      <th>4170</th>\n",
       "      <td>2017</td>\n",
       "      <td>(40, 50]</td>\n",
       "      <td>(-100, -90]</td>\n",
       "      <td>-0.5</td>\n",
       "      <td>24.6</td>\n",
       "      <td>12.544084</td>\n",
       "      <td>13.2</td>\n",
       "    </tr>\n",
       "    <tr>\n",
       "      <th>4171</th>\n",
       "      <td>2017</td>\n",
       "      <td>(40, 50]</td>\n",
       "      <td>(-90, -80]</td>\n",
       "      <td>-2.5</td>\n",
       "      <td>29.0</td>\n",
       "      <td>15.355935</td>\n",
       "      <td>17.0</td>\n",
       "    </tr>\n",
       "    <tr>\n",
       "      <th>4172</th>\n",
       "      <td>2017</td>\n",
       "      <td>(40, 50]</td>\n",
       "      <td>(-80, -70]</td>\n",
       "      <td>-1.5</td>\n",
       "      <td>29.4</td>\n",
       "      <td>11.725217</td>\n",
       "      <td>10.4</td>\n",
       "    </tr>\n",
       "    <tr>\n",
       "      <th>4173</th>\n",
       "      <td>2017</td>\n",
       "      <td>(40, 50]</td>\n",
       "      <td>(-70, -60]</td>\n",
       "      <td>-1.8</td>\n",
       "      <td>28.7</td>\n",
       "      <td>7.306804</td>\n",
       "      <td>6.2</td>\n",
       "    </tr>\n",
       "    <tr>\n",
       "      <th>4174</th>\n",
       "      <td>2017</td>\n",
       "      <td>(40, 50]</td>\n",
       "      <td>(-60, -50]</td>\n",
       "      <td>-2.0</td>\n",
       "      <td>30.0</td>\n",
       "      <td>5.892106</td>\n",
       "      <td>4.2</td>\n",
       "    </tr>\n",
       "  </tbody>\n",
       "</table>\n",
       "<p>4175 rows × 7 columns</p>\n",
       "</div>"
      ],
      "text/plain": [
       "      year latitudeSquare longitudeSquare sea_surface_temp                   \\\n",
       "                                                       min   max       mean   \n",
       "0     1851        (0, 10]     (-100, -90]             19.4  26.7  23.557895   \n",
       "1     1851        (0, 10]      (-90, -80]             21.7  27.8  25.121739   \n",
       "2     1851        (0, 10]      (-80, -70]             25.0  28.9  26.983333   \n",
       "3     1851        (0, 10]      (-70, -60]              NaN   NaN        NaN   \n",
       "4     1851        (0, 10]      (-60, -50]             26.1  28.3  26.800000   \n",
       "...    ...            ...             ...              ...   ...        ...   \n",
       "4170  2017       (40, 50]     (-100, -90]             -0.5  24.6  12.544084   \n",
       "4171  2017       (40, 50]      (-90, -80]             -2.5  29.0  15.355935   \n",
       "4172  2017       (40, 50]      (-80, -70]             -1.5  29.4  11.725217   \n",
       "4173  2017       (40, 50]      (-70, -60]             -1.8  28.7   7.306804   \n",
       "4174  2017       (40, 50]      (-60, -50]             -2.0  30.0   5.892106   \n",
       "\n",
       "             \n",
       "     median  \n",
       "0      23.3  \n",
       "1      24.4  \n",
       "2      26.4  \n",
       "3       NaN  \n",
       "4      26.4  \n",
       "...     ...  \n",
       "4170   13.2  \n",
       "4171   17.0  \n",
       "4172   10.4  \n",
       "4173    6.2  \n",
       "4174    4.2  \n",
       "\n",
       "[4175 rows x 7 columns]"
      ]
     },
     "execution_count": 85,
     "metadata": {},
     "output_type": "execute_result"
    }
   ],
   "source": [
    "dfProcessed = dfSquare.reset_index()\n",
    "dfProcessed"
   ]
  },
  {
   "cell_type": "code",
   "execution_count": null,
   "metadata": {},
   "outputs": [],
   "source": [
    "dfProcessed.to_csv(r'sstProcessedAll.csv',index=False)"
   ]
  },
  {
   "cell_type": "code",
   "execution_count": null,
   "metadata": {},
   "outputs": [],
   "source": [
    "df = pd.read_csv('sstProcessedAll.csv')"
   ]
  },
  {
   "cell_type": "code",
   "execution_count": 92,
   "metadata": {},
   "outputs": [],
   "source": [
    "dfProcessed.to_json(path_or_buf=\"sstColumns.json\",orient=\"columns\", index=\"false\")\n"
   ]
  },
  {
   "cell_type": "code",
   "execution_count": null,
   "metadata": {},
   "outputs": [],
   "source": []
  }
 ],
 "metadata": {
  "kernelspec": {
   "display_name": "Python 3",
   "language": "python",
   "name": "python3"
  },
  "language_info": {
   "codemirror_mode": {
    "name": "ipython",
    "version": 3
   },
   "file_extension": ".py",
   "mimetype": "text/x-python",
   "name": "python",
   "nbconvert_exporter": "python",
   "pygments_lexer": "ipython3",
   "version": "3.8.3"
  }
 },
 "nbformat": 4,
 "nbformat_minor": 4
}
