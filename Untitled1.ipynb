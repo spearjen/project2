{
 "cells": [
  {
   "cell_type": "code",
   "execution_count": 25,
   "metadata": {},
   "outputs": [
    {
     "name": "stderr",
     "output_type": "stream",
     "text": [
      "Downloading: 100%|█████████████████████████████████████████████████████| 24084762/24084762 [54:58<00:00, 7302.27rows/s]\n"
     ]
    }
   ],
   "source": [
    "import pandas\n",
    "import pandas_gbq\n",
    "\n",
    "# TODO: Set project_id to your Google Cloud Platform project ID.\n",
    "project_id = \"plucky-courier-292500\"\n",
    "\n",
    "sql = \"\"\"\n",
    "SELECT latitude, longitude, year, month, day, air_temperature, sea_surface_temp\n",
    "FROM `bigquery-public-data.noaa_icoads.icoads_core_2016`\n",
    "WHERE latitude >=15.623\n",
    "AND latitude <=47.279\n",
    "AND longitude >=-98.965\n",
    "AND longitude <=-59.063\n",
    "\"\"\"\n",
    "\n",
    "df = pandas_gbq.read_gbq(sql, project_id=project_id)"
   ]
  },
  {
   "cell_type": "code",
   "execution_count": 27,
   "metadata": {},
   "outputs": [
    {
     "data": {
      "text/html": [
       "<div>\n",
       "<style scoped>\n",
       "    .dataframe tbody tr th:only-of-type {\n",
       "        vertical-align: middle;\n",
       "    }\n",
       "\n",
       "    .dataframe tbody tr th {\n",
       "        vertical-align: top;\n",
       "    }\n",
       "\n",
       "    .dataframe thead th {\n",
       "        text-align: right;\n",
       "    }\n",
       "</style>\n",
       "<table border=\"1\" class=\"dataframe\">\n",
       "  <thead>\n",
       "    <tr style=\"text-align: right;\">\n",
       "      <th></th>\n",
       "      <th>latitude</th>\n",
       "      <th>longitude</th>\n",
       "      <th>year</th>\n",
       "      <th>month</th>\n",
       "      <th>day</th>\n",
       "      <th>air_temperature</th>\n",
       "      <th>sea_surface_temp</th>\n",
       "    </tr>\n",
       "  </thead>\n",
       "  <tbody>\n",
       "    <tr>\n",
       "      <th>0</th>\n",
       "      <td>42.77</td>\n",
       "      <td>-86.21</td>\n",
       "      <td>2017</td>\n",
       "      <td>8</td>\n",
       "      <td>1</td>\n",
       "      <td>NaN</td>\n",
       "      <td>NaN</td>\n",
       "    </tr>\n",
       "    <tr>\n",
       "      <th>1</th>\n",
       "      <td>30.35</td>\n",
       "      <td>-81.61</td>\n",
       "      <td>2017</td>\n",
       "      <td>3</td>\n",
       "      <td>1</td>\n",
       "      <td>NaN</td>\n",
       "      <td>21.6</td>\n",
       "    </tr>\n",
       "    <tr>\n",
       "      <th>2</th>\n",
       "      <td>41.64</td>\n",
       "      <td>-87.14</td>\n",
       "      <td>2017</td>\n",
       "      <td>7</td>\n",
       "      <td>1</td>\n",
       "      <td>NaN</td>\n",
       "      <td>NaN</td>\n",
       "    </tr>\n",
       "    <tr>\n",
       "      <th>3</th>\n",
       "      <td>41.61</td>\n",
       "      <td>-71.30</td>\n",
       "      <td>2017</td>\n",
       "      <td>8</td>\n",
       "      <td>1</td>\n",
       "      <td>22.8</td>\n",
       "      <td>NaN</td>\n",
       "    </tr>\n",
       "    <tr>\n",
       "      <th>4</th>\n",
       "      <td>41.31</td>\n",
       "      <td>-72.08</td>\n",
       "      <td>2017</td>\n",
       "      <td>6</td>\n",
       "      <td>1</td>\n",
       "      <td>13.8</td>\n",
       "      <td>NaN</td>\n",
       "    </tr>\n",
       "  </tbody>\n",
       "</table>\n",
       "</div>"
      ],
      "text/plain": [
       "   latitude  longitude  year  month  day  air_temperature  sea_surface_temp\n",
       "0     42.77     -86.21  2017      8    1              NaN               NaN\n",
       "1     30.35     -81.61  2017      3    1              NaN              21.6\n",
       "2     41.64     -87.14  2017      7    1              NaN               NaN\n",
       "3     41.61     -71.30  2017      8    1             22.8               NaN\n",
       "4     41.31     -72.08  2017      6    1             13.8               NaN"
      ]
     },
     "execution_count": 27,
     "metadata": {},
     "output_type": "execute_result"
    }
   ],
   "source": [
    "df2016=df\n",
    "df2016.head()"
   ]
  },
  {
   "cell_type": "code",
   "execution_count": 28,
   "metadata": {},
   "outputs": [],
   "source": [
    "compression_opts = dict(method='zip',\n",
    "                        archive_name='df2016.csv')  \n",
    "df.to_csv('df2016.zip', index=False,\n",
    "          compression=compression_opts) "
   ]
  },
  {
   "cell_type": "code",
   "execution_count": null,
   "metadata": {},
   "outputs": [],
   "source": []
  },
  {
   "cell_type": "code",
   "execution_count": 26,
   "metadata": {},
   "outputs": [
    {
     "name": "stderr",
     "output_type": "stream",
     "text": [
      "Downloading: 100%|█████████████████████████████████████████████████████| 16947458/16947458 [32:36<00:00, 8660.95rows/s]\n"
     ]
    }
   ],
   "source": [
    "import pandas\n",
    "import pandas_gbq\n",
    "\n",
    "# TODO: Set project_id to your Google Cloud Platform project ID.\n",
    "project_id = \"plucky-courier-292500\"\n",
    "\n",
    "sql = \"\"\"\n",
    "SELECT latitude, longitude, year, month, day, air_temperature, sea_surface_temp\n",
    "FROM `bigquery-public-data.noaa_icoads.icoads_core_2017`\n",
    "WHERE latitude >=15.623\n",
    "AND latitude <=47.279\n",
    "AND longitude >=-98.965\n",
    "AND longitude <=-59.063\n",
    "\"\"\"\n",
    "\n",
    "df = pandas_gbq.read_gbq(sql, project_id=project_id)"
   ]
  },
  {
   "cell_type": "code",
   "execution_count": 29,
   "metadata": {},
   "outputs": [
    {
     "data": {
      "text/html": [
       "<div>\n",
       "<style scoped>\n",
       "    .dataframe tbody tr th:only-of-type {\n",
       "        vertical-align: middle;\n",
       "    }\n",
       "\n",
       "    .dataframe tbody tr th {\n",
       "        vertical-align: top;\n",
       "    }\n",
       "\n",
       "    .dataframe thead th {\n",
       "        text-align: right;\n",
       "    }\n",
       "</style>\n",
       "<table border=\"1\" class=\"dataframe\">\n",
       "  <thead>\n",
       "    <tr style=\"text-align: right;\">\n",
       "      <th></th>\n",
       "      <th>latitude</th>\n",
       "      <th>longitude</th>\n",
       "      <th>year</th>\n",
       "      <th>month</th>\n",
       "      <th>day</th>\n",
       "      <th>air_temperature</th>\n",
       "      <th>sea_surface_temp</th>\n",
       "    </tr>\n",
       "  </thead>\n",
       "  <tbody>\n",
       "    <tr>\n",
       "      <th>0</th>\n",
       "      <td>42.77</td>\n",
       "      <td>-86.21</td>\n",
       "      <td>2017</td>\n",
       "      <td>8</td>\n",
       "      <td>1</td>\n",
       "      <td>NaN</td>\n",
       "      <td>NaN</td>\n",
       "    </tr>\n",
       "    <tr>\n",
       "      <th>1</th>\n",
       "      <td>30.35</td>\n",
       "      <td>-81.61</td>\n",
       "      <td>2017</td>\n",
       "      <td>3</td>\n",
       "      <td>1</td>\n",
       "      <td>NaN</td>\n",
       "      <td>21.6</td>\n",
       "    </tr>\n",
       "    <tr>\n",
       "      <th>2</th>\n",
       "      <td>41.64</td>\n",
       "      <td>-87.14</td>\n",
       "      <td>2017</td>\n",
       "      <td>7</td>\n",
       "      <td>1</td>\n",
       "      <td>NaN</td>\n",
       "      <td>NaN</td>\n",
       "    </tr>\n",
       "    <tr>\n",
       "      <th>3</th>\n",
       "      <td>41.61</td>\n",
       "      <td>-71.30</td>\n",
       "      <td>2017</td>\n",
       "      <td>8</td>\n",
       "      <td>1</td>\n",
       "      <td>22.8</td>\n",
       "      <td>NaN</td>\n",
       "    </tr>\n",
       "    <tr>\n",
       "      <th>4</th>\n",
       "      <td>41.31</td>\n",
       "      <td>-72.08</td>\n",
       "      <td>2017</td>\n",
       "      <td>6</td>\n",
       "      <td>1</td>\n",
       "      <td>13.8</td>\n",
       "      <td>NaN</td>\n",
       "    </tr>\n",
       "  </tbody>\n",
       "</table>\n",
       "</div>"
      ],
      "text/plain": [
       "   latitude  longitude  year  month  day  air_temperature  sea_surface_temp\n",
       "0     42.77     -86.21  2017      8    1              NaN               NaN\n",
       "1     30.35     -81.61  2017      3    1              NaN              21.6\n",
       "2     41.64     -87.14  2017      7    1              NaN               NaN\n",
       "3     41.61     -71.30  2017      8    1             22.8               NaN\n",
       "4     41.31     -72.08  2017      6    1             13.8               NaN"
      ]
     },
     "execution_count": 29,
     "metadata": {},
     "output_type": "execute_result"
    }
   ],
   "source": [
    "df2017=df\n",
    "df2017.head()"
   ]
  },
  {
   "cell_type": "code",
   "execution_count": 30,
   "metadata": {},
   "outputs": [],
   "source": [
    "compression_opts = dict(method='zip',\n",
    "                        archive_name='df2017.csv')  \n",
    "df.to_csv('df2017.zip', index=False,\n",
    "          compression=compression_opts) "
   ]
  },
  {
   "cell_type": "code",
   "execution_count": null,
   "metadata": {},
   "outputs": [],
   "source": [
    "# PULL IN DEPENDENCIES AND MAKE CONNECTION\n",
    "import sqlite3\n",
    "\n",
    "conn = sqlite3.connect('?????.db')\n",
    "\n",
    "from datetime import datetime\n",
    "\n",
    "from flask import Flask\n",
    "\n",
    "from flask_sqlalchemy import SQLAlchemy"
   ]
  },
  {
   "cell_type": "code",
   "execution_count": null,
   "metadata": {},
   "outputs": [],
   "source": [
    "# CREATE TABLE IF NEEDED\n",
    "\n",
    "conn.execute(\"\"\"CREATE TABLE IF NOT EXISTS air_sea_temps (\n",
    "                latitude FLOAT,\n",
    "                longitude FLOAT,\n",
    "                year INTEGER,\n",
    "                month INTEGER,\n",
    "                day INTEGER,\n",
    "                air_temperature FLOAT,    \n",
    "                sea_surface_temp FLOAT     \n",
    "                )\"\"\")\n",
    "\n",
    "# # ADD VALUES IF NEEDED\n",
    "# values = ('Deep Learning', \n",
    "#           'Ian Goodfellow et al.', \n",
    "#           775, \n",
    "#           datetime(2016, 11, 18).timestamp())\n",
    "\n",
    "# #EXECUTE COMMAND\n",
    "# conn.execute(\"\"\"INSERT INTO books VALUES (?, ?, ?, ?)\"\"\", values)\n",
    "\n",
    "#QUERY\n",
    "r = conn.execute(\"\"\"SELECT * FROM ?????\"\"\")\n",
    "r.fetchall()"
   ]
  }
 ],
 "metadata": {
  "kernelspec": {
   "display_name": "Python 3",
   "language": "python",
   "name": "python3"
  },
  "language_info": {
   "codemirror_mode": {
    "name": "ipython",
    "version": 3
   },
   "file_extension": ".py",
   "mimetype": "text/x-python",
   "name": "python",
   "nbconvert_exporter": "python",
   "pygments_lexer": "ipython3",
   "version": "3.7.6"
  }
 },
 "nbformat": 4,
 "nbformat_minor": 4
}
