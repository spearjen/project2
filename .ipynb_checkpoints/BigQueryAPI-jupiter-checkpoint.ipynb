{
 "cells": [
  {
   "cell_type": "code",
   "execution_count": 76,
   "metadata": {},
   "outputs": [],
   "source": [
    "#import necessary libraries\n",
    "from flask import Flask\n",
    "from flask_restful import Resource, Api, reqparse\n",
    "from google.cloud import bigquery\n",
    "import pandas_gbq\n",
    "import pandas\n",
    "import json\n",
    "import os"
   ]
  },
  {
   "cell_type": "code",
   "execution_count": 75,
   "metadata": {},
   "outputs": [],
   "source": [
    "#google credentials\n",
    "os.environ[\"GOOGLE_APPLICATION_CREDENTIALS\"] = \"Hurricane -32cb24436d46.json\"\n",
    "\n",
    "# #create Flass app instance\n",
    "# app = Flask(__name__)\n",
    "# api = Api(app)\n",
    "\n",
    "\n",
    "#setup connection to BigAssQuery\n",
    "client = bigquery.Client()\n",
    "\n",
    "\n",
    "# @app.route(\"/\")\n",
    "# def index():\n",
    "\n",
    "query = \"\"\"\n",
    "    SELECT year, latitude, longitude, sea_surface_temp\n",
    "    FROM `bigquery-public-data.noaa_icoads.icoads_core_*` \n",
    "    WHERE year >=1851 \n",
    "    AND latitude <=50\n",
    "    AND latitude >=0\n",
    "    AND longitude <=-50\n",
    "    AND longitude >=-100\n",
    "    ORDER BY year\n",
    "\"\"\"\n",
    "\n",
    "# query_res = client.query(query) "
   ]
  },
  {
   "cell_type": "code",
   "execution_count": 79,
   "metadata": {},
   "outputs": [
    {
     "data": {
      "text/plain": [
       "<google.cloud.bigquery.job.QueryJob at 0x28c65654808>"
      ]
     },
     "execution_count": 79,
     "metadata": {},
     "output_type": "execute_result"
    }
   ],
   "source": [
    "# query_res"
   ]
  },
  {
   "cell_type": "code",
   "execution_count": null,
   "metadata": {},
   "outputs": [
    {
     "name": "stderr",
     "output_type": "stream",
     "text": [
      "\n",
      "Downloading:   0%|                                                                     | 0/169220630 [00:00<?, ?rows/s]\u001b[A\n",
      "Downloading:   0%|                                                   | 294250/169220630 [00:10<1:35:53, 29361.14rows/s]\u001b[A\n",
      "Downloading:   0%|▏                                                  | 580258/169220630 [00:22<1:43:14, 27222.34rows/s]\u001b[A\n",
      "Downloading:   1%|▎                                                  | 859085/169220630 [00:31<1:41:09, 27737.60rows/s]\u001b[A\n",
      "Downloading:   1%|▎                                                 | 1136324/169220630 [00:42<1:42:39, 27289.61rows/s]\u001b[A\n",
      "Downloading:   1%|▍                                                 | 1421176/169220630 [00:52<1:42:05, 27395.22rows/s]\u001b[A\n",
      "Downloading:   1%|▌                                                 | 1713868/169220630 [01:01<1:37:28, 28640.04rows/s]\u001b[A\n",
      "Downloading:   1%|▌                                                 | 1998666/169220630 [01:10<1:34:09, 29599.45rows/s]\u001b[A\n",
      "Downloading:   1%|▋                                                 | 2280018/169220630 [01:19<1:32:38, 30031.75rows/s]\u001b[A\n",
      "Downloading:   2%|▊                                                 | 2559154/169220630 [01:29<1:34:31, 29384.24rows/s]\u001b[A\n",
      "Downloading:   2%|▊                                                 | 2837343/169220630 [01:39<1:34:43, 29276.73rows/s]\u001b[A\n",
      "Downloading:   2%|▉                                                 | 3115722/169220630 [01:49<1:37:07, 28502.23rows/s]\u001b[A\n",
      "Downloading:   2%|█                                                 | 3394412/169220630 [01:59<1:37:22, 28380.33rows/s]\u001b[A\n",
      "Downloading:   2%|█                                                 | 3674030/169220630 [02:08<1:34:47, 29106.06rows/s]\u001b[A\n",
      "Downloading:   2%|█▏                                                | 3953525/169220630 [02:17<1:32:55, 29639.38rows/s]\u001b[A\n",
      "Downloading:   3%|█▎                                                | 4235161/169220630 [02:29<1:40:12, 27441.44rows/s]\u001b[A\n",
      "Downloading:   3%|█▎                                                | 4525455/169220630 [02:39<1:36:23, 28476.05rows/s]\u001b[A\n",
      "Downloading:   3%|█▍                                                | 4809816/169220630 [02:49<1:36:12, 28483.07rows/s]\u001b[A\n",
      "Downloading:   3%|█▍                                                | 4809816/169220630 [03:00<1:36:12, 28483.07rows/s]\u001b[A\n",
      "Downloading:   3%|█▌                                                | 5096233/169220630 [03:01<1:42:54, 26582.37rows/s]\u001b[A\n",
      "Downloading:   3%|█▌                                                | 5381316/169220630 [03:11<1:41:57, 26781.34rows/s]\u001b[A\n",
      "Downloading:   3%|█▋                                                | 5666286/169220630 [03:21<1:38:06, 27784.30rows/s]\u001b[A\n",
      "Downloading:   4%|█▊                                                | 5950853/169220630 [03:32<1:39:25, 27369.22rows/s]\u001b[A\n",
      "Downloading:   4%|█▊                                                | 6233890/169220630 [03:40<1:34:42, 28681.01rows/s]\u001b[A\n",
      "Downloading:   4%|█▉                                                | 6514965/169220630 [03:51<1:38:20, 27576.63rows/s]\u001b[A\n",
      "Downloading:   4%|██                                                | 6795653/169220630 [04:00<1:34:10, 28743.79rows/s]\u001b[A\n",
      "Downloading:   4%|██                                                | 7076847/169220630 [04:09<1:29:50, 30076.78rows/s]\u001b[A\n",
      "Downloading:   4%|██                                                | 7076847/169220630 [04:20<1:29:50, 30076.78rows/s]\u001b[A\n",
      "Downloading:   4%|██▏                                               | 7358481/169220630 [04:20<1:36:29, 27956.73rows/s]\u001b[A"
     ]
    }
   ],
   "source": [
    "import pandas as pd\n",
    "import pandas_gbq\n",
    "df = pandas_gbq.read_gbq(query)"
   ]
  },
  {
   "cell_type": "code",
   "execution_count": 25,
   "metadata": {},
   "outputs": [],
   "source": [
    "lat_bins=range(0, 51, 10)\n",
    "df['latitudeSquare'] = pd.cut(df['latitude'], bins=lat_bins)"
   ]
  },
  {
   "cell_type": "code",
   "execution_count": 26,
   "metadata": {},
   "outputs": [],
   "source": [
    "long_bins=range(-100, -49, 10)\n",
    "df['longitudeSquare']=pd.cut(df['longitude'], bins=long_bins)"
   ]
  },
  {
   "cell_type": "code",
   "execution_count": null,
   "metadata": {},
   "outputs": [],
   "source": [
    "dfSquare=df.groupby(['year','latitudeSquare','longitudeSquare']).agg({'sea_surface_temp': ['min','max','mean','median']})\n",
    "dfSquare.head()"
   ]
  },
  {
   "cell_type": "code",
   "execution_count": 74,
   "metadata": {},
   "outputs": [],
   "source": [
    "dfSquare.to_json(r'yearData.json')"
   ]
  },
  {
   "cell_type": "code",
   "execution_count": null,
   "metadata": {},
   "outputs": [],
   "source": [
    "dfProcessed = dfSquare.reset_index()\n",
    "dfProcessed"
   ]
  },
  {
   "cell_type": "code",
   "execution_count": null,
   "metadata": {},
   "outputs": [],
   "source": [
    "sstJson= dfProcessed.to_json(path_or_buf=\"sst.json\",orient=\"split\", index=\"false\")"
   ]
  }
 ],
 "metadata": {
  "kernelspec": {
   "display_name": "Python 3",
   "language": "python",
   "name": "python3"
  },
  "language_info": {
   "codemirror_mode": {
    "name": "ipython",
    "version": 3
   },
   "file_extension": ".py",
   "mimetype": "text/x-python",
   "name": "python",
   "nbconvert_exporter": "python",
   "pygments_lexer": "ipython3",
   "version": "3.7.6"
  }
 },
 "nbformat": 4,
 "nbformat_minor": 4
}
